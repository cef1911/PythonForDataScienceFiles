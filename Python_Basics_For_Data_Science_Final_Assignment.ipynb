{
 "cells": [
  {
   "cell_type": "markdown",
   "metadata": {},
   "source": [
    "### Task 1\n",
    "We have declared a tuple containing five same elements as following: T = (‘python’, ‘python’, ‘python’, ‘python’, ‘python’). Re-write the same code in an optimal/simple way that fetches the same result."
   ]
  },
  {
   "cell_type": "code",
   "execution_count": 64,
   "metadata": {},
   "outputs": [],
   "source": [
    "T = ( 'python', ) *  5"
   ]
  },
  {
   "cell_type": "code",
   "execution_count": 65,
   "metadata": {},
   "outputs": [
    {
     "data": {
      "text/plain": [
       "('python', 'python', 'python', 'python', 'python')"
      ]
     },
     "execution_count": 65,
     "metadata": {},
     "output_type": "execute_result"
    }
   ],
   "source": [
    "T"
   ]
  },
  {
   "cell_type": "markdown",
   "metadata": {},
   "source": [
    "### Task 2\n",
    "\n",
    "Write code to print characters from a string that are present at an even index number.\n",
    "For example, if your input string is \"python\", the output characters will be (p,t,o)."
   ]
  },
  {
   "cell_type": "code",
   "execution_count": 2,
   "metadata": {},
   "outputs": [
    {
     "name": "stdout",
     "output_type": "stream",
     "text": [
      "Enter string information\n",
      "Pthonnkld\n",
      "Phnkd\n"
     ]
    }
   ],
   "source": [
    "# Enter the string \n",
    "task2str = input(\"Enter string information\\n\")\n",
    "\n",
    "# Creating a string with characters present at an even index number\n",
    "finalstr = task2str[::2]\n",
    "print(finalstr) "
   ]
  },
  {
   "cell_type": "markdown",
   "metadata": {},
   "source": [
    "### Task 3\n",
    "Write a function that calculates the average of the elements of the list:\n",
    "\n",
    "elements = [5, 7, 4, 9, 2]"
   ]
  },
  {
   "cell_type": "code",
   "execution_count": 1,
   "metadata": {},
   "outputs": [
    {
     "name": "stdout",
     "output_type": "stream",
     "text": [
      "5.4\n"
     ]
    }
   ],
   "source": [
    "import statistics\n",
    "\n",
    "def elementaverage():\n",
    "    elements = [5, 7, 4, 9, 2]\n",
    "    average = statistics.mean(elements)\n",
    "    print(average)\n",
    "\n",
    "elementaverage()"
   ]
  },
  {
   "cell_type": "markdown",
   "metadata": {},
   "source": [
    "### Task 4\n",
    "Write code to find if the given year is a leap year or not."
   ]
  },
  {
   "cell_type": "code",
   "execution_count": 3,
   "metadata": {},
   "outputs": [
    {
     "name": "stdout",
     "output_type": "stream",
     "text": [
      "Please enter a year\n",
      "1993\n",
      "False\n"
     ]
    }
   ],
   "source": [
    "import calendar\n",
    "\n",
    "def leap_year():\n",
    "    leap_input = int(input(\"Please enter a year\\n\"))\n",
    "    final_leap = calendar.isleap(leap_input)\n",
    "    print(final_leap)\n",
    "    \n",
    "leap_year()"
   ]
  },
  {
   "cell_type": "markdown",
   "metadata": {},
   "source": [
    "### Task 5\n",
    "Given a list of numbers (integers), find the sum of second maximum and second minimum in the following list.\n",
    "\n",
    "l = [21, 6, 12, 57, 35, 61]"
   ]
  },
  {
   "cell_type": "markdown",
   "metadata": {},
   "source": [
    "### I had two ways to complete this for Task 5\n",
    "\n",
    "###### Here is the 1st way"
   ]
  },
  {
   "cell_type": "code",
   "execution_count": 8,
   "metadata": {},
   "outputs": [],
   "source": [
    "l = [21, 6, 12, 57, 35, 61]"
   ]
  },
  {
   "cell_type": "code",
   "execution_count": 9,
   "metadata": {},
   "outputs": [
    {
     "name": "stdout",
     "output_type": "stream",
     "text": [
      "69\n"
     ]
    }
   ],
   "source": [
    "print(57 + 12) # 57 is the second max and 12 is the second minimum. add them together to get 69"
   ]
  },
  {
   "cell_type": "markdown",
   "metadata": {},
   "source": [
    "###### Here is the 2nd way"
   ]
  },
  {
   "cell_type": "code",
   "execution_count": 6,
   "metadata": {},
   "outputs": [],
   "source": [
    "# using pandas, I created a list named data\n",
    "import pandas as pd\n",
    "\n",
    "data = [21, 6, 12, 57, 35, 61]"
   ]
  },
  {
   "cell_type": "code",
   "execution_count": 7,
   "metadata": {},
   "outputs": [
    {
     "data": {
      "text/plain": [
       "0    69\n",
       "dtype: int64"
      ]
     },
     "execution_count": 7,
     "metadata": {},
     "output_type": "execute_result"
    }
   ],
   "source": [
    "# then created a pandas dataframe named df\n",
    "# then did a summation of the loc index[2] which is equal to 12 and the loc index[3] which is equal to 57\n",
    "# the total is 12 + 57 = 69\n",
    "df = pd.DataFrame(data)\n",
    "(df.loc[2] + df.loc[3])"
   ]
  },
  {
   "cell_type": "code",
   "execution_count": null,
   "metadata": {},
   "outputs": [],
   "source": []
  }
 ],
 "metadata": {
  "kernelspec": {
   "display_name": "Python 3",
   "language": "python",
   "name": "python3"
  },
  "language_info": {
   "codemirror_mode": {
    "name": "ipython",
    "version": 3
   },
   "file_extension": ".py",
   "mimetype": "text/x-python",
   "name": "python",
   "nbconvert_exporter": "python",
   "pygments_lexer": "ipython3",
   "version": "3.8.5"
  }
 },
 "nbformat": 4,
 "nbformat_minor": 4
}
